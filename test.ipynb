{
 "cells": [
  {
   "cell_type": "markdown",
   "metadata": {},
   "source": []
  },
  {
   "cell_type": "markdown",
   "metadata": {},
   "source": [
    "def get_latest_line(file_path):\n",
    "    \"\"\"\n",
    "    读取文件，返回最后一行非空数据\n",
    "    \"\"\"\n",
    "    if not os.path.exists(file_path):\n",
    "        return None\n",
    "    with open(file_path, \"r\", encoding=\"utf-8\") as f:\n",
    "        lines = f.readlines()\n",
    "        # 过滤掉空行\n",
    "        lines = [line.strip() for line in lines if line.strip()]\n",
    "        if not lines:\n",
    "            return None\n",
    "        return lines[-1]\n",
    "\n",
    "def get_latest_update_file(exchange_dir):\n",
    "    \"\"\"\n",
    "    在指定目录中查找最新的 update 文件，文件名格式为：\n",
    "    orderbook_{pair}-update-{date}.txt\n",
    "    返回最新日期的文件路径\n",
    "    \"\"\"\n",
    "    pattern = os.path.join(exchange_dir, \"orderbook_*update-*.txt\")\n",
    "    files = glob.glob(pattern)\n",
    "    if not files:\n",
    "        return None\n",
    "\n",
    "    def extract_date(filename):\n",
    "        # 从文件名中提取日期部分，假设文件名格式为 orderbook_{pair}-update-{date}.txt\n",
    "        base = os.path.basename(filename)\n",
    "        parts = base.split('-')\n",
    "        if len(parts) < 2:\n",
    "            return None\n",
    "        # 最后一个部分类似 \"{date}.txt\"\n",
    "        date_part = parts[-1].replace(\".txt\", \"\")\n",
    "        try:\n",
    "            return datetime.fromisoformat(date_part)\n",
    "        except Exception:\n",
    "            return None\n",
    "\n",
    "    files_with_dates = [(f, extract_date(f)) for f in files]\n",
    "    files_with_dates = [(f, d) for f, d in files_with_dates if d is not None]\n",
    "    if not files_with_dates:\n",
    "        return None\n",
    "    # 按日期降序排序，最新的在最前面\n",
    "    files_with_dates.sort(key=lambda x: x[1], reverse=True)\n",
    "    return files_with_dates[0][0]\n",
    "\n",
    "def get_latest_update_for_exchange(exchange, pair):\n",
    "    \"\"\"\n",
    "    根据交易所名称和交易对，查找对应的 update 文件并返回最新一行数据（解析成 dict）\n",
    "    优先尝试使用当天的 update 文件，若不存在则查找最新日期的文件\n",
    "    \"\"\"\n",
    "    exchange_dir = exchange  # 假设每个交易所的文件都在以交易所名称命名的目录下\n",
    "    today = datetime.now().date().isoformat()\n",
    "    # 拼接当天的文件名\n",
    "    file_name = f\"orderbook_{pair}-update-{today}.txt\"\n",
    "    file_path = os.path.join(exchange_dir, file_name)\n",
    "    if not os.path.exists(file_path):\n",
    "        # 当天文件不存在，则查找目录中最新的 update 文件\n",
    "        file_path = get_latest_update_file(exchange_dir)\n",
    "    if not file_path:\n",
    "        return None\n",
    "\n",
    "    latest_line = get_latest_line(file_path)\n",
    "    if latest_line:\n",
    "        try:\n",
    "            return json.loads(latest_line)\n",
    "        except json.JSONDecodeError:\n",
    "            print(f\"解析 {file_path} 中的 JSON 数据失败\")\n",
    "            return None\n",
    "    return None"
   ]
  },
  {
   "cell_type": "markdown",
   "metadata": {},
   "source": [
    "update = get_latest_update_for_exchange(exchange, pair)"
   ]
  }
 ],
 "metadata": {
  "language_info": {
   "name": "python"
  }
 },
 "nbformat": 4,
 "nbformat_minor": 2
}
