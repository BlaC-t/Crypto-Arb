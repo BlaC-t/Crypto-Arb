{
 "cells": [
  {
   "cell_type": "code",
   "execution_count": 13,
   "metadata": {},
   "outputs": [],
   "source": [
    "import requests\n",
    "import pandas as pd\n",
    "import time\n",
    "\n",
    "binance_url = \"https://api.binance.com/api/v3/depth\"\n",
    "\n",
    "coins = [\"BTCUSDT\", \"ETHUSDT\", \"SOLUSDT\"]\n",
    "params = []\n",
    "\n",
    "for i in range(len(coins)):\n",
    "    param = {\n",
    "        \"symbol\": coins[i],\n",
    "        \"limit\": 100,\n",
    "    }\n",
    "\n",
    "    params.append(param)\n",
    "\n",
    "btc_data = requests.get(binance_url, params=params[0]).json()\n",
    "eth_data = requests.get(binance_url, params=params[1]).json()\n",
    "sol_data = requests.get(binance_url, params=params[2]).json() "
   ]
  },
  {
   "cell_type": "code",
   "execution_count": 14,
   "metadata": {},
   "outputs": [
    {
     "data": {
      "text/plain": [
       "{'code': -1003,\n",
       " 'msg': 'Way too much request weight used; IP banned until 1741272759135. Please use WebSocket Streams for live updates to avoid bans.'}"
      ]
     },
     "execution_count": 14,
     "metadata": {},
     "output_type": "execute_result"
    }
   ],
   "source": [
    "btc_data"
   ]
  },
  {
   "cell_type": "code",
   "execution_count": null,
   "metadata": {},
   "outputs": [
    {
     "name": "stdout",
     "output_type": "stream",
     "text": [
      "Change detected in BTCUSDT: LastUpdateId changed from 62985307445 to 62985309671\n",
      "Change detected in BTCUSDT: LastUpdateId changed from 62985309671 to 62985310100\n",
      "Change detected in BTCUSDT: LastUpdateId changed from 62985310100 to 62985310555\n",
      "Change detected in BTCUSDT: LastUpdateId changed from 62985310555 to 62985310996\n",
      "Change detected in BTCUSDT: LastUpdateId changed from 62985310996 to 62985313894\n"
     ]
    },
    {
     "ename": "KeyboardInterrupt",
     "evalue": "",
     "output_type": "error",
     "traceback": [
      "\u001b[0;31m---------------------------------------------------------------------------\u001b[0m",
      "\u001b[0;31mKeyboardInterrupt\u001b[0m                         Traceback (most recent call last)",
      "Cell \u001b[0;32mIn[22], line 22\u001b[0m\n\u001b[1;32m     19\u001b[0m \u001b[38;5;28;01melse\u001b[39;00m:\n\u001b[1;32m     20\u001b[0m     \u001b[38;5;28mprint\u001b[39m(\u001b[38;5;124mf\u001b[39m\u001b[38;5;124m\"\u001b[39m\u001b[38;5;124mFailed to fetch data for \u001b[39m\u001b[38;5;132;01m{\u001b[39;00mcoin\u001b[38;5;132;01m}\u001b[39;00m\u001b[38;5;124m: \u001b[39m\u001b[38;5;132;01m{\u001b[39;00mresponse\u001b[38;5;241m.\u001b[39mstatus_code\u001b[38;5;132;01m}\u001b[39;00m\u001b[38;5;124m\"\u001b[39m)\n\u001b[0;32m---> 22\u001b[0m \u001b[43mtime\u001b[49m\u001b[38;5;241;43m.\u001b[39;49m\u001b[43msleep\u001b[49m\u001b[43m(\u001b[49m\u001b[38;5;241;43m1\u001b[39;49m\u001b[43m)\u001b[49m  \u001b[38;5;66;03m# Wait for 1 second before the next request\u001b[39;00m\n",
      "\u001b[0;31mKeyboardInterrupt\u001b[0m: "
     ]
    }
   ],
   "source": [
    "binance_url = \"https://api.binance.com/api/v3/depth\"\n",
    "\n",
    "coins = [\"BTCUSDT\", \"ETHUSDT\", \"SOLUSDT\"]\n",
    "params = [{\"symbol\": coin, \"limit\": 100} for coin in coins]\n",
    "\n",
    "last_update_ids = {coin: None for coin in coins}\n",
    "\n",
    "while True:\n",
    "    coin = coins[0]\n",
    "    response = requests.get(binance_url, params={\"symbol\": coin, \"limit\": 100})\n",
    "    if response.status_code == 200:\n",
    "        data = response.json()\n",
    "        current_update_id = data.get('lastUpdateId')\n",
    "        \n",
    "        if last_update_ids[coin] is not None and current_update_id != last_update_ids[coin]:\n",
    "            print(f\"Change detected in {coin}: LastUpdateId changed from {last_update_ids[coin]} to {current_update_id}\")\n",
    "        \n",
    "        last_update_ids[coin] = current_update_id\n",
    "    else:\n",
    "        print(f\"Failed to fetch data for {coin}: {response.status_code}\")\n",
    "    \n",
    "    time.sleep(1)  # Wait for 1 second before the next request"
   ]
  },
  {
   "cell_type": "code",
   "execution_count": 3,
   "metadata": {},
   "outputs": [
    {
     "name": "stdout",
     "output_type": "stream",
     "text": [
      "2025-03-21 15:47:32.989130\n",
      "2025-03-21 15:47:34.991134\n"
     ]
    }
   ],
   "source": [
    "import time\n",
    "from datetime import datetime\n",
    "time.time()\n",
    "timestamp = 1742543252.98913 \n",
    "print(datetime.fromtimestamp(timestamp))\n",
    "timestamp = 1742543254.991134\n",
    "print(datetime.fromtimestamp(timestamp))"
   ]
  },
  {
   "cell_type": "code",
   "execution_count": null,
   "metadata": {},
   "outputs": [
    {
     "ename": "RuntimeError",
     "evalue": "asyncio.run() cannot be called from a running event loop",
     "output_type": "error",
     "traceback": [
      "\u001b[1;31m---------------------------------------------------------------------------\u001b[0m",
      "\u001b[1;31mRuntimeError\u001b[0m                              Traceback (most recent call last)",
      "Cell \u001b[1;32mIn[5], line 30\u001b[0m\n\u001b[0;32m     27\u001b[0m     \u001b[38;5;28;01mexcept\u001b[39;00m \u001b[38;5;167;01mException\u001b[39;00m \u001b[38;5;28;01mas\u001b[39;00m e:\n\u001b[0;32m     28\u001b[0m         \u001b[38;5;28mprint\u001b[39m(\u001b[38;5;124mf\u001b[39m\u001b[38;5;124m\"\u001b[39m\u001b[38;5;124m发生错误: \u001b[39m\u001b[38;5;132;01m{\u001b[39;00me\u001b[38;5;132;01m}\u001b[39;00m\u001b[38;5;124m\"\u001b[39m)\n\u001b[1;32m---> 30\u001b[0m \u001b[43masyncio\u001b[49m\u001b[38;5;241;43m.\u001b[39;49m\u001b[43mrun\u001b[49m\u001b[43m(\u001b[49m\u001b[43mtest_okx_subscription\u001b[49m\u001b[43m(\u001b[49m\u001b[43m)\u001b[49m\u001b[43m)\u001b[49m\n",
      "File \u001b[1;32mC:\\Program Files\\WindowsApps\\PythonSoftwareFoundation.Python.3.12_3.12.2544.0_x64__qbz5n2kfra8p0\\Lib\\asyncio\\runners.py:191\u001b[0m, in \u001b[0;36mrun\u001b[1;34m(main, debug, loop_factory)\u001b[0m\n\u001b[0;32m    161\u001b[0m \u001b[38;5;250m\u001b[39m\u001b[38;5;124;03m\"\"\"Execute the coroutine and return the result.\u001b[39;00m\n\u001b[0;32m    162\u001b[0m \n\u001b[0;32m    163\u001b[0m \u001b[38;5;124;03mThis function runs the passed coroutine, taking care of\u001b[39;00m\n\u001b[1;32m   (...)\u001b[0m\n\u001b[0;32m    187\u001b[0m \u001b[38;5;124;03m    asyncio.run(main())\u001b[39;00m\n\u001b[0;32m    188\u001b[0m \u001b[38;5;124;03m\"\"\"\u001b[39;00m\n\u001b[0;32m    189\u001b[0m \u001b[38;5;28;01mif\u001b[39;00m events\u001b[38;5;241m.\u001b[39m_get_running_loop() \u001b[38;5;129;01mis\u001b[39;00m \u001b[38;5;129;01mnot\u001b[39;00m \u001b[38;5;28;01mNone\u001b[39;00m:\n\u001b[0;32m    190\u001b[0m     \u001b[38;5;66;03m# fail fast with short traceback\u001b[39;00m\n\u001b[1;32m--> 191\u001b[0m     \u001b[38;5;28;01mraise\u001b[39;00m \u001b[38;5;167;01mRuntimeError\u001b[39;00m(\n\u001b[0;32m    192\u001b[0m         \u001b[38;5;124m\"\u001b[39m\u001b[38;5;124masyncio.run() cannot be called from a running event loop\u001b[39m\u001b[38;5;124m\"\u001b[39m)\n\u001b[0;32m    194\u001b[0m \u001b[38;5;28;01mwith\u001b[39;00m Runner(debug\u001b[38;5;241m=\u001b[39mdebug, loop_factory\u001b[38;5;241m=\u001b[39mloop_factory) \u001b[38;5;28;01mas\u001b[39;00m runner:\n\u001b[0;32m    195\u001b[0m     \u001b[38;5;28;01mreturn\u001b[39;00m runner\u001b[38;5;241m.\u001b[39mrun(main)\n",
      "\u001b[1;31mRuntimeError\u001b[0m: asyncio.run() cannot be called from a running event loop"
     ]
    }
   ],
   "source": [
    "import asyncio\n",
    "import websockets\n",
    "import json\n",
    "\n",
    "async def test_okx_subscription():\n",
    "    try:\n",
    "        async with websockets.connect(\"wss://ws.okx.com:8443/ws/v5/public\") as ws:\n",
    "            # 发送订阅请求\n",
    "            subscribe_msg = {\n",
    "                \"op\": \"subscribe\",\n",
    "                \"args\": [{\n",
    "                    \"channel\": \"books\",\n",
    "                    \"instId\": \"BTC-USDT\"\n",
    "                }]\n",
    "            }\n",
    "            await ws.send(json.dumps(subscribe_msg))\n",
    "\n",
    "            # 接收订阅确认\n",
    "            response = await ws.recv()\n",
    "            print(\"订阅响应:\", json.loads(response))\n",
    "\n",
    "            # 持续接收数据\n",
    "            while True:\n",
    "                data = await ws.recv()\n",
    "                print(\"收到数据:\", json.loads(data))\n",
    "\n",
    "    except Exception as e:\n",
    "        print(f\"发生错误: {e}\")\n",
    "\n",
    "\n",
    "async def main():\n",
    "    # 创建并等待子任务\n",
    "    task = asyncio.create_task(test_okx_subscription())\n",
    "    await task\n",
    "    print(\"Main task completed\")\n",
    "\n",
    "# 仅在程序入口调用 asyncio.run()\n",
    "if __name__ == \"__main__\":\n",
    "    asyncio.run(main())"
   ]
  }
 ],
 "metadata": {
  "kernelspec": {
   "display_name": "base",
   "language": "python",
   "name": "python3"
  },
  "language_info": {
   "codemirror_mode": {
    "name": "ipython",
    "version": 3
   },
   "file_extension": ".py",
   "mimetype": "text/x-python",
   "name": "python",
   "nbconvert_exporter": "python",
   "pygments_lexer": "ipython3",
   "version": "3.9.13"
  }
 },
 "nbformat": 4,
 "nbformat_minor": 2
}
